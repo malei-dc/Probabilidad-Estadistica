{
 "cells": [
  {
   "cell_type": "markdown",
   "id": "10d90274",
   "metadata": {},
   "source": [
    "## Ejercicio 1\n",
    "\n",
    "(d) Simular en R el experimento de tirar dos veces un dado equilibrado.\n"
   ]
  },
  {
   "cell_type": "code",
   "execution_count": null,
   "id": "2132af69",
   "metadata": {},
   "outputs": [],
   "source": []
  }
 ],
 "metadata": {
  "kernelspec": {
   "display_name": "Python 3 (ipykernel)",
   "language": "python",
   "name": "python3"
  },
  "language_info": {
   "codemirror_mode": {
    "name": "ipython",
    "version": 3
   },
   "file_extension": ".py",
   "mimetype": "text/x-python",
   "name": "python",
   "nbconvert_exporter": "python",
   "pygments_lexer": "ipython3",
   "version": "3.10.12"
  }
 },
 "nbformat": 4,
 "nbformat_minor": 5
}
