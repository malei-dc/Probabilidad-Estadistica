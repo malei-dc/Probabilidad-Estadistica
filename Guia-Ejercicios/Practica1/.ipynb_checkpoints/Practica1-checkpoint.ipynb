{
 "cells": [
  {
   "cell_type": "code",
   "execution_count": 2,
   "id": "aed8906a",
   "metadata": {},
   "outputs": [],
   "source": [
    "# imports para el archivo\n",
    "import numpy as np"
   ]
  },
  {
   "cell_type": "markdown",
   "id": "047450d3",
   "metadata": {},
   "source": [
    "# Ejercicio 1\n",
    "\n",
    "### (d) Simular en R el experimento de tirar dos veces un dado equilibrado.\n"
   ]
  },
  {
   "cell_type": "code",
   "execution_count": 3,
   "id": "ff4c6aaa",
   "metadata": {},
   "outputs": [
    {
     "name": "stdout",
     "output_type": "stream",
     "text": [
      "Lanzamientos: (4, 2)\n"
     ]
    }
   ],
   "source": [
    "# Genera dos lanzamientos\n",
    "lanzamiento1 = np.random.randint(1, 7)\n",
    "lanzamiento2 = np.random.randint(1, 7)\n",
    "\n",
    "# Muestra los resultados de los dos lanzamientos\n",
    "print(f\"Lanzamientos: ({lanzamiento1}, {lanzamiento2})\")"
   ]
  },
  {
   "cell_type": "markdown",
   "id": "84df4971",
   "metadata": {},
   "source": [
    "### (e) Simular 1000 veces en R el experimento de tirar dos veces un dado equilibrado y estimar las probabilidades de los sucesos definidos en 1b)."
   ]
  },
  {
   "cell_type": "code",
   "execution_count": 4,
   "id": "52b5b3ed",
   "metadata": {},
   "outputs": [
    {
     "name": "stdout",
     "output_type": "stream",
     "text": [
      "Probabilidad estimada de A (suma >= 5): 0.8240 ~ P(A) = 0.8333\n",
      "Probabilidad estimada de B (primer tiro > segundo tiro): 0.4320 ~ P(B)= 0.4166\n",
      "Probabilidad estimada de C (primer tiro es un 4): 0.1690 ~ P(C) = 0.1666\n"
     ]
    }
   ],
   "source": [
    "cant_simulacion = 1000\n",
    "\n",
    "ocurrencia_A = 0\n",
    "ocurrencia_B = 0\n",
    "ocurrencia_C = 0\n",
    "\n",
    "# Simular el experimento 1000 veces\n",
    "for _ in range(cant_simulacion):\n",
    "    # Generar dos lanzamientos de dado\n",
    "    lanzamiento1 = np.random.randint(1, 7)\n",
    "    lanzamiento2 = np.random.randint(1, 7)\n",
    "    \n",
    "    # Suceso A: la suma de los dos números obtenidos es por lo menos 5\n",
    "    if lanzamiento1 + lanzamiento2 >= 5:\n",
    "        ocurrencia_A += 1\n",
    "    \n",
    "    # Suceso B: el valor obtenido en el primer tiro es superior al obtenido en el segundo\n",
    "    if lanzamiento1 > lanzamiento2:\n",
    "        ocurrencia_B += 1\n",
    "    \n",
    "    # Suceso C: el valor obtenido en el primer tiro es un 4\n",
    "    if lanzamiento1 == 4:\n",
    "        ocurrencia_C += 1\n",
    "\n",
    "# Estimar las probabilidades\n",
    "prob_A = ocurrencia_A / cant_simulacion\n",
    "prob_B = ocurrencia_B / cant_simulacion\n",
    "prob_C = ocurrencia_C / cant_simulacion\n",
    "\n",
    "# Mostrar los resultados\n",
    "print(f\"Probabilidad estimada de A (suma >= 5): {prob_A:.4f} ~ P(A) = 0.8333\")\n",
    "print(f\"Probabilidad estimada de B (primer tiro > segundo tiro): {prob_B:.4f} ~ P(B)= 0.4166\")\n",
    "print(f\"Probabilidad estimada de C (primer tiro es un 4): {prob_C:.4f} ~ P(C) = 0.1666\")"
   ]
  },
  {
   "cell_type": "markdown",
   "id": "d63f82cc",
   "metadata": {},
   "source": [
    "### (h) Estimar las probabilidades de los sucesos definidos en 1f) mediante simulaciones. Comparar con los resultados obtenidos en 1g)"
   ]
  },
  {
   "cell_type": "code",
   "execution_count": 8,
   "id": "d7e904ce",
   "metadata": {},
   "outputs": [
    {
     "name": "stdout",
     "output_type": "stream",
     "text": [
      "Probabilidad estimada de A ∩ B: 0.3602 ~ P(A∩B) = 0.3611\n",
      "Probabilidad estimada de B ∪ C: 0.4986 ~ P(B∪C) = 0.5\n",
      "Probabilidad estimada de A ∩ (B ∪ C): 0.4429 ~ P(A∩(B∪C))= 0.4444\n"
     ]
    }
   ],
   "source": [
    "# Número de simulaciones\n",
    "num_simulaciones = 100000\n",
    "\n",
    "# Variables para contar las ocurrencias de los sucesos\n",
    "count_A_inter_B = 0\n",
    "count_B_union_C = 0\n",
    "count_A_inter_B_union_C = 0\n",
    "\n",
    "# Simular el experimento num_simulaciones veces\n",
    "for _ in range(num_simulaciones):\n",
    "    # Generar dos lanzamientos de dado\n",
    "    lanzamiento1 = np.random.randint(1, 7)\n",
    "    lanzamiento2 = np.random.randint(1, 7)\n",
    "    \n",
    "    # Suceso A: la suma de los dos números obtenidos es por lo menos 5\n",
    "    A = (lanzamiento1 + lanzamiento2 >= 5)\n",
    "    \n",
    "    # Suceso B: el valor obtenido en el primer tiro es superior al obtenido en el segundo\n",
    "    B = (lanzamiento1 > lanzamiento2)\n",
    "    \n",
    "    # Suceso C: el valor obtenido en el primer tiro es un 4\n",
    "    C = (lanzamiento1 == 4)\n",
    "    \n",
    "    # Contar A ∩ B\n",
    "    if A and B:\n",
    "        count_A_inter_B += 1\n",
    "    \n",
    "    # Contar B ∪ C\n",
    "    if B or C:\n",
    "        count_B_union_C += 1\n",
    "    \n",
    "    # Contar A ∩ (B ∪ C)\n",
    "    if A and (B or C):\n",
    "        count_A_inter_B_union_C += 1\n",
    "\n",
    "# Estimar las probabilidades\n",
    "prob_A_inter_B = count_A_inter_B / num_simulaciones\n",
    "prob_B_union_C = count_B_union_C / num_simulaciones\n",
    "prob_A_inter_B_union_C = count_A_inter_B_union_C / num_simulaciones\n",
    "\n",
    "# Mostrar los resultados\n",
    "print(f\"Probabilidad estimada de A ∩ B: {prob_A_inter_B:.4f} ~ P(A∩B) = 0.3611\")\n",
    "print(f\"Probabilidad estimada de B ∪ C: {prob_B_union_C:.4f} ~ P(B∪C) = 0.5\")\n",
    "print(f\"Probabilidad estimada de A ∩ (B ∪ C): {prob_A_inter_B_union_C:.4f} ~ P(A∩(B∪C))= 0.4444\")\n"
   ]
  },
  {
   "cell_type": "markdown",
   "id": "9144d348",
   "metadata": {},
   "source": [
    "# Ejercicio 4\n",
    "\n",
    "### (a) Determinar el número de elementos que posee el espacio muestral del experimento.\n"
   ]
  },
  {
   "cell_type": "code",
   "execution_count": 1,
   "id": "268b5a6f",
   "metadata": {},
   "outputs": [
    {
     "name": "stdout",
     "output_type": "stream",
     "text": [
      "(1, 1, 1)\n",
      "(2, 1, 1)\n",
      "(2, 2, 1)\n",
      "(2, 2, 2)\n",
      "(3, 1, 1)\n",
      "(3, 2, 1)\n",
      "(3, 2, 2)\n",
      "(3, 3, 1)\n",
      "(3, 3, 2)\n",
      "(3, 3, 3)\n",
      "(4, 1, 1)\n",
      "(4, 2, 1)\n",
      "(4, 2, 2)\n",
      "(4, 3, 1)\n",
      "(4, 3, 2)\n",
      "(4, 3, 3)\n",
      "(4, 4, 1)\n",
      "(4, 4, 2)\n",
      "(4, 4, 3)\n",
      "(4, 4, 4)\n",
      "(5, 1, 1)\n",
      "(5, 2, 1)\n",
      "(5, 2, 2)\n",
      "(5, 3, 1)\n",
      "(5, 3, 2)\n",
      "(5, 3, 3)\n",
      "(5, 4, 1)\n",
      "(5, 4, 2)\n",
      "(5, 4, 3)\n",
      "(5, 4, 4)\n",
      "(5, 5, 1)\n",
      "(5, 5, 2)\n",
      "(5, 5, 3)\n",
      "(5, 5, 4)\n",
      "(5, 5, 5)\n",
      "\n",
      "Total de secuencias: 35\n"
     ]
    }
   ],
   "source": [
    "\n",
    "# Generar todas las secuencias (k, j, i) con k ≥ j ≥ i\n",
    "secuencias = []\n",
    "for k in range(1, 6):\n",
    "    for j in range(1, k + 1):\n",
    "        for i in range(1, j + 1):\n",
    "            secuencias.append((k, j, i))\n",
    "\n",
    "# Imprimir todas las secuencias\n",
    "for secuencia in secuencias:\n",
    "    print(secuencia)\n",
    "\n",
    "# Para saber el total de secuencias\n",
    "print(f\"\\nTotal de secuencias: {len(secuencias)}\")\n"
   ]
  },
  {
   "cell_type": "code",
   "execution_count": null,
   "id": "af8b8180",
   "metadata": {},
   "outputs": [],
   "source": []
  }
 ],
 "metadata": {
  "kernelspec": {
   "display_name": "Python 3 (ipykernel)",
   "language": "python",
   "name": "python3"
  },
  "language_info": {
   "codemirror_mode": {
    "name": "ipython",
    "version": 3
   },
   "file_extension": ".py",
   "mimetype": "text/x-python",
   "name": "python",
   "nbconvert_exporter": "python",
   "pygments_lexer": "ipython3",
   "version": "3.10.12"
  }
 },
 "nbformat": 4,
 "nbformat_minor": 5
}
